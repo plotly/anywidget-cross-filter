{
 "cells": [
  {
   "cell_type": "code",
   "execution_count": 6,
   "metadata": {},
   "outputs": [],
   "source": [
    "import plotly.express as px\n",
    "import plotly.graph_objects as go\n",
    "from random import randint"
   ]
  },
  {
   "cell_type": "code",
   "execution_count": 7,
   "metadata": {},
   "outputs": [],
   "source": [
    "y1 = [randint(0, 10) for i in range(0, 10)]"
   ]
  },
  {
   "cell_type": "code",
   "execution_count": 8,
   "metadata": {},
   "outputs": [
    {
     "data": {
      "application/vnd.jupyter.widget-view+json": {
       "model_id": "a300d2f501bf4a46b8fa1c5dbea150f5",
       "version_major": 2,
       "version_minor": 0
      },
      "text/plain": [
       "FigureWidget({\n",
       "    'data': [{'hovertemplate': 'x=%{x}<br>y=%{y}<extra></extra>',\n",
       "              'legendgroup': '',\n",
       "              'marker': {'color': '#636efa', 'symbol': 'circle'},\n",
       "              'mode': 'markers',\n",
       "              'name': '',\n",
       "              'orientation': 'v',\n",
       "              'showlegend': False,\n",
       "              'type': 'scatter',\n",
       "              'uid': 'c6532f1c-1eaf-4bff-b8bf-8743d26456ad',\n",
       "              'x': {'bdata': 'AAECAwQFBgcICQ==', 'dtype': 'i1'},\n",
       "              'xaxis': 'x',\n",
       "              'y': {'bdata': 'CAABBgMECAEEBg==', 'dtype': 'i1'},\n",
       "              'yaxis': 'y'}],\n",
       "    'layout': {'dragmode': 'select',\n",
       "               'legend': {'tracegroupgap': 0},\n",
       "               'margin': {'t': 60},\n",
       "               'template': '...',\n",
       "               'xaxis': {'anchor': 'y', 'domain': [0.0, 1.0], 'title': {'text': 'x'}},\n",
       "               'yaxis': {'anchor': 'x', 'domain': [0.0, 1.0], 'title': {'text': 'y'}}}\n",
       "})"
      ]
     },
     "execution_count": 8,
     "metadata": {},
     "output_type": "execute_result"
    }
   ],
   "source": [
    "fig1 = px.scatter(x=range(0, 10), y=y1)\n",
    "fig1.update_layout(dragmode=\"select\")\n",
    "\n",
    "widget1 = go.FigureWidget(fig1)\n",
    "\n",
    "trace1 = widget1.data[0]\n",
    "\n",
    "widget1"
   ]
  },
  {
   "cell_type": "code",
   "execution_count": 9,
   "metadata": {},
   "outputs": [
    {
     "data": {
      "application/vnd.jupyter.widget-view+json": {
       "model_id": "fb84654dce6f484585e53b6169150d35",
       "version_major": 2,
       "version_minor": 0
      },
      "text/plain": [
       "FigureWidget({\n",
       "    'data': [{'hovertemplate': 'x=%{x}<br>y=%{y}<extra></extra>',\n",
       "              'legendgroup': '',\n",
       "              'marker': {'color': '#636efa', 'symbol': 'circle'},\n",
       "              'mode': 'markers',\n",
       "              'name': '',\n",
       "              'orientation': 'v',\n",
       "              'showlegend': False,\n",
       "              'type': 'scatter',\n",
       "              'uid': '1ac143e6-e5fa-4555-8c1d-e4985356aaea',\n",
       "              'x': {'bdata': 'AAECAwQFBgcICQ==', 'dtype': 'i1'},\n",
       "              'xaxis': 'x',\n",
       "              'y': {'bdata': 'CAABBgMECAEEBg==', 'dtype': 'i1'},\n",
       "              'yaxis': 'y'}],\n",
       "    'layout': {'dragmode': 'select',\n",
       "               'legend': {'tracegroupgap': 0},\n",
       "               'margin': {'t': 60},\n",
       "               'template': '...',\n",
       "               'xaxis': {'anchor': 'y', 'domain': [0.0, 1.0], 'title': {'text': 'x'}},\n",
       "               'yaxis': {'anchor': 'x', 'domain': [0.0, 1.0], 'title': {'text': 'y'}}}\n",
       "})"
      ]
     },
     "execution_count": 9,
     "metadata": {},
     "output_type": "execute_result"
    }
   ],
   "source": [
    "fig2 = px.scatter(x=range(0, 10), y=y1)\n",
    "fig2.update_layout(dragmode=\"select\")\n",
    "\n",
    "widget2 = go.FigureWidget(fig2)\n",
    "\n",
    "trace2 = widget2.data[0]\n",
    "\n",
    "widget2"
   ]
  },
  {
   "cell_type": "code",
   "execution_count": 10,
   "metadata": {},
   "outputs": [],
   "source": [
    "def update_to_red(trace, points, selector):\n",
    "    c = [\"#636efa\"] * len(trace.x)\n",
    "\n",
    "    for i in points.point_inds:\n",
    "        c[i] = \"red\"\n",
    "        with widget2.batch_update():\n",
    "            trace2.marker.color = c\n",
    "\n",
    "\n",
    "trace1.on_selection(update_to_red)\n",
    "\n",
    "\n",
    "def update_to_orange(trace, points, selector):\n",
    "    c = [\"#636efa\"] * len(trace.x)\n",
    "\n",
    "    for i in points.point_inds:\n",
    "        c[i] = \"orange\"\n",
    "        with widget1.batch_update():\n",
    "            trace1.marker.color = c\n",
    "\n",
    "\n",
    "trace2.on_selection(update_to_orange)"
   ]
  }
 ],
 "metadata": {
  "kernelspec": {
   "display_name": ".venv",
   "language": "python",
   "name": "python3"
  },
  "language_info": {
   "codemirror_mode": {
    "name": "ipython",
    "version": 3
   },
   "file_extension": ".py",
   "mimetype": "text/x-python",
   "name": "python",
   "nbconvert_exporter": "python",
   "pygments_lexer": "ipython3",
   "version": "3.12.5"
  }
 },
 "nbformat": 4,
 "nbformat_minor": 2
}
